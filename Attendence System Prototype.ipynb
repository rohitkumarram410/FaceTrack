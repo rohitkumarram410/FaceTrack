{
 "cells": [
  {
   "cell_type": "code",
   "execution_count": 2,
   "id": "a5ed3cc2",
   "metadata": {
    "scrolled": true
   },
   "outputs": [
    {
     "name": "stdout",
     "output_type": "stream",
     "text": [
      "Requirement already satisfied: face_recognition in c:\\users\\rishu\\anaconda3\\lib\\site-packages (1.3.0)\n",
      "Requirement already satisfied: numpy in c:\\users\\rishu\\anaconda3\\lib\\site-packages (from face_recognition) (1.21.5)\n",
      "Requirement already satisfied: Pillow in c:\\users\\rishu\\anaconda3\\lib\\site-packages (from face_recognition) (9.2.0)\n",
      "Requirement already satisfied: face-recognition-models>=0.3.0 in c:\\users\\rishu\\anaconda3\\lib\\site-packages (from face_recognition) (0.3.0)\n",
      "Requirement already satisfied: Click>=6.0 in c:\\users\\rishu\\anaconda3\\lib\\site-packages (from face_recognition) (8.0.4)\n",
      "Requirement already satisfied: dlib>=19.7 in c:\\users\\rishu\\anaconda3\\lib\\site-packages (from face_recognition) (19.24.6)\n",
      "Requirement already satisfied: colorama in c:\\users\\rishu\\anaconda3\\lib\\site-packages (from Click>=6.0->face_recognition) (0.4.5)\n",
      "Note: you may need to restart the kernel to use updated packages.\n"
     ]
    }
   ],
   "source": [
    "pip install face_recognition\n"
   ]
  },
  {
   "cell_type": "code",
   "execution_count": 19,
   "id": "12a61c50",
   "metadata": {},
   "outputs": [],
   "source": [
    "import cv2\n",
    "import face_recognition\n",
    "import numpy as np\n",
    "import os\n",
    "from datetime import datetime\n",
    "import pandas as pd\n",
    "import matplotlib.pyplot as plt\n"
   ]
  },
  {
   "cell_type": "code",
   "execution_count": 20,
   "id": "e43b8e0f",
   "metadata": {},
   "outputs": [],
   "source": [
    "\n",
    "# Path to the folder containing known face images\n",
    "path = 'ImagesAttendance'\n",
    "images = []\n",
    "classNames = []\n",
    "myList = os.listdir(path)\n"
   ]
  },
  {
   "cell_type": "code",
   "execution_count": 21,
   "id": "05a0a8ce",
   "metadata": {},
   "outputs": [],
   "source": [
    "\n",
    "# Loop through each image in the directory and load it\n",
    "for cl in myList:\n",
    "    curImg = cv2.imread(f'{path}/{cl}')\n",
    "    images.append(curImg)\n",
    "    classNames.append(os.path.splitext(cl)[0])\n"
   ]
  },
  {
   "cell_type": "code",
   "execution_count": 22,
   "id": "da59ee23",
   "metadata": {},
   "outputs": [],
   "source": [
    "\n",
    "# Function to find encodings for all images\n",
    "def findEncodings(images):\n",
    "    encodeList = []\n",
    "    for img in images:\n",
    "        img = cv2.cvtColor(img, cv2.COLOR_BGR2RGB)\n",
    "        encode = face_recognition.face_encodings(img)[0]\n",
    "        encodeList.append(encode)\n",
    "    return encodeList\n"
   ]
  },
  {
   "cell_type": "code",
   "execution_count": 23,
   "id": "5138d0d6",
   "metadata": {},
   "outputs": [],
   "source": [
    "\n",
    "# Get encodings of all known faces\n",
    "encodeListKnown = findEncodings(images)\n",
    "\n",
    "# Define the class schedule\n",
    "schedule = {\n",
    "    'Monday': {\n",
    "        '09:30-12:30': 'OS LAB(EB-301)', '12:30-13:30': 'IOT(EB-301)', '13:30-14:30': 'Lunch',\n",
    "        '14:30-15:30': 'SEAM(BS-402)', '15:30-16:30': 'SEAM(BS-402)', '16:30-17:30': 'OS(BS-402)'\n",
    "    },\n",
    "    'Tuesday': {\n",
    "        '09:30-10:30': '-', '10:30-11:30': 'SDE-5', '11:30-17:30': 'CDT'\n",
    "    },\n",
    "    'Wednesday': {\n",
    "        '09:30-10:30': 'IOT(BS-402)', '10:30-11:30': 'OS(BS-402)', '11:30-12:30': 'ML(BS-402)',\n",
    "        '12:30-13:30': 'ML(BS-402)', '13:30-14:30': 'Lunch', '14:30-17:30': 'ML LAB(Oracle LAB)'\n",
    "    },\n",
    "    'Thursday': {\n",
    "        '09:30-10:30': 'SEAM(BS-102)', '10:30-11:30': 'SEAM(BS-102)', '11:30-12:30': 'IOT(BS-102)',\n",
    "        '12:30-13:30': 'UGE-5 (online)', '13:30-14:30': 'Lunch', '14:30-15:30': 'OS(BS-102)',\n",
    "        '15:30-16:30': 'ML(BS-102)', '16:30-17:30': 'NC(NO class)'\n",
    "    },\n",
    "    'Friday': {\n",
    "        '09:30-12:30': 'IOT LAB(CDAC LAB)', '12:30-13:30': 'Lunch', '13:30-14:30': 'OS(BS-103)',\n",
    "        '14:30-15:30': 'IOT(BS-102)', '15:30-16:30': 'ML(BS-102)', '16:30-17:30': 'NC'\n",
    "    },\n",
    "    'Saturday': {\n",
    "        '09:30-17:30': 'Co-curricular Activities'\n",
    "    },\n",
    "    'Sunday': {\n",
    "        'Holiday': 'Holiday'\n",
    "    }\n",
    "}\n"
   ]
  },
  {
   "cell_type": "code",
   "execution_count": 24,
   "id": "ea4244f8",
   "metadata": {},
   "outputs": [],
   "source": [
    "\n",
    "# Function to get the current class based on time and day\n",
    "def getCurrentClass():\n",
    "    now = datetime.now()\n",
    "    current_day = now.strftime('%A')\n",
    "    current_time = now.strftime('%H:%M')\n",
    "\n",
    "    if current_day in schedule:\n",
    "        for time_range, class_name in schedule[current_day].items():\n",
    "            if time_range == 'Holiday' or time_range == 'Lunch':\n",
    "                continue  # Skip special cases\n",
    "            start_time, end_time = time_range.split('-')\n",
    "            if start_time <= current_time <= end_time:\n",
    "                return class_name\n",
    "    return 'No Class'\n"
   ]
  },
  {
   "cell_type": "code",
   "execution_count": 25,
   "id": "5d1171a4",
   "metadata": {},
   "outputs": [],
   "source": [
    "\n",
    "# Create or update attendance in the provided file\n",
    "def markAttendance(name, attendance_file='Attendance_Prototype.csv'):\n",
    "    current_class = getCurrentClass()  # Get the current class based on the time and day\n",
    "    \n",
    "    # If it's lunch or no class, skip attendance marking\n",
    "    if current_class in ['Lunch', 'No Class', 'Holiday']:\n",
    "        return\n",
    "    \n",
    "    # Get the current time and date\n",
    "    current_time = datetime.now().strftime('%H:%M:%S')\n",
    "    current_date = datetime.now().strftime('%Y-%m-%d')\n",
    "    \n",
    "    # Load or create the attendance DataFrame\n",
    "    if os.path.exists(attendance_file):\n",
    "        df = pd.read_csv(attendance_file)\n",
    "        # Ensure DataFrame has the correct columns\n",
    "        if 'Name' not in df.columns or 'Date' not in df.columns or 'Time' not in df.columns or 'Class' not in df.columns:\n",
    "            df = pd.DataFrame(columns=['Name', 'Date', 'Time', 'Class'])\n",
    "    else:\n",
    "        df = pd.DataFrame(columns=['Name', 'Date', 'Time', 'Class'])\n",
    "    \n",
    "    # Check if the name and date are already marked to avoid duplicates\n",
    "    if not ((df['Name'] == name) & (df['Date'] == current_date) & (df['Class'] == current_class)).any():\n",
    "        new_row = pd.DataFrame({'Name': [name], 'Date': [current_date], 'Time': [current_time], 'Class': [current_class]})\n",
    "        df = pd.concat([df, new_row], ignore_index=True)\n",
    "        df.to_csv(attendance_file, index=False)\n"
   ]
  },
  {
   "cell_type": "code",
   "execution_count": 26,
   "id": "a3bcaeab",
   "metadata": {},
   "outputs": [],
   "source": [
    "\n",
    "# Function to plot attendance data\n",
    "def plotAttendance(attendance_file='Attendance_Prototype.csv'):\n",
    "    # Load the attendance data\n",
    "    if not os.path.exists(attendance_file):\n",
    "        print(f\"File {attendance_file} not found.\")\n",
    "        return\n",
    "    \n",
    "    df = pd.read_csv(attendance_file)\n",
    "    \n",
    "    # Count attendance per student\n",
    "    attendance_count = df['Name'].value_counts()\n",
    "\n",
    "    # Plot the data\n",
    "    plt.figure(figsize=(10, 6))\n",
    "    attendance_count.plot(kind='bar', color='skyblue')\n",
    "    plt.title('Attendance Count Per Student')\n",
    "    plt.xlabel('Students')\n",
    "    plt.ylabel('Attendance Count')\n",
    "    plt.xticks(rotation=45)\n",
    "    plt.tight_layout()\n",
    "    plt.show()\n"
   ]
  },
  {
   "cell_type": "code",
   "execution_count": 27,
   "id": "22dedc56",
   "metadata": {},
   "outputs": [
    {
     "data": {
      "image/png": "[encoded data removed]",
      "text/plain": [
       "<Figure size 1000x600 with 1 Axes>"
      ]
     },
     "metadata": {},
     "output_type": "display_data"
    }
   ],
   "source": [
    "\n",
    "# Initialize webcam\n",
    "cap = cv2.VideoCapture(0)\n",
    "\n",
    "while True:\n",
    "    success, img = cap.read()\n",
    "    \n",
    "    if not success:\n",
    "        print(\"Error: Failed to capture image\")\n",
    "        break\n",
    "    \n",
    "    imgS = cv2.resize(img, (0, 0), None, 0.25, 0.25)\n",
    "    imgS = cv2.cvtColor(imgS, cv2.COLOR_BGR2RGB)\n",
    "\n",
    "    facesCurFrame = face_recognition.face_locations(imgS)\n",
    "    encodesCurFrame = face_recognition.face_encodings(imgS, facesCurFrame)\n",
    "\n",
    "    for encodeFace, faceLoc in zip(encodesCurFrame, facesCurFrame):\n",
    "        matches = face_recognition.compare_faces(encodeListKnown, encodeFace)\n",
    "        faceDis = face_recognition.face_distance(encodeListKnown, encodeFace)\n",
    "        \n",
    "        matchIndex = np.argmin(faceDis)\n",
    "\n",
    "        if matches[matchIndex]:\n",
    "            name = classNames[matchIndex].upper()\n",
    "            y1, x2, y2, x1 = faceLoc\n",
    "            y1, x2, y2, x1 = y1*4, x2*4, y2*4, x1*4\n",
    "            cv2.rectangle(img, (x1, y1), (x2, y2), (0, 255, 0), 2)\n",
    "            cv2.putText(img, name, (x1 + 6, y2 - 6), cv2.FONT_HERSHEY_SIMPLEX, 1, (255, 255, 255), 2)\n",
    "            markAttendance(name)\n",
    "\n",
    "    cv2.imshow('Webcam', img)\n",
    "    \n",
    "    # Press 'q' to quit\n",
    "    if cv2.waitKey(1) & 0xFF == ord('q'):\n",
    "        break\n",
    "\n",
    "cap.release()\n",
    "cv2.destroyAllWindows()\n",
    "\n",
    "# Plot attendance after webcam closes\n",
    "plotAttendance()\n"
   ]
  },
  {
   "cell_type": "code",
   "execution_count": null,
   "id": "2aaa1fbb",
   "metadata": {},
   "outputs": [],
   "source": []
  },
  {
   "cell_type": "code",
   "execution_count": null,
   "id": "8d4e6f99",
   "metadata": {},
   "outputs": [],
   "source": []
  },
  {
   "cell_type": "code",
   "execution_count": null,
   "id": "380f8ff3",
   "metadata": {},
   "outputs": [],
   "source": []
  }
 ],
 "metadata": {
  "kernelspec": {
   "display_name": "Python 3 (ipykernel)",
   "language": "python",
   "name": "python3"
  },
  "language_info": {
   "codemirror_mode": {
    "name": "ipython",
    "version": 3
   },
   "file_extension": ".py",
   "mimetype": "text/x-python",
   "name": "python",
   "nbconvert_exporter": "python",
   "pygments_lexer": "ipython3",
   "version": "3.9.13"
  }
 },
 "nbformat": 4,
 "nbformat_minor": 5
}
